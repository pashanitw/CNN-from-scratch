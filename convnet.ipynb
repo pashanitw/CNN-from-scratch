{
 "cells": [
  {
   "cell_type": "code",
   "execution_count": 89,
   "metadata": {
    "collapsed": true
   },
   "outputs": [],
   "source": [
    "import cv2"
   ]
  },
  {
   "cell_type": "code",
   "execution_count": 90,
   "outputs": [],
   "source": [
    "import numpy as np"
   ],
   "metadata": {
    "collapsed": false,
    "pycharm": {
     "name": "#%%\n"
    }
   }
  },
  {
   "cell_type": "code",
   "execution_count": 91,
   "outputs": [],
   "source": [
    "URL = 'https://nnfs.io/datasets/fashion_mnist_images.zip'\n",
    "FILE = 'fashion_mnist_images.zip'\n",
    "FOLDER = 'fashion_mnist_images'"
   ],
   "metadata": {
    "collapsed": false,
    "pycharm": {
     "name": "#%%\n"
    }
   }
  },
  {
   "cell_type": "code",
   "execution_count": 92,
   "outputs": [
    {
     "data": {
      "text/plain": "['.DS_Store', '9', '0', '7', '6', '1', '8', '4', '3', '2', '5']"
     },
     "execution_count": 92,
     "metadata": {},
     "output_type": "execute_result"
    }
   ],
   "source": [
    "import os\n",
    "labels = os.listdir(f'{FOLDER}/train')\n",
    "labels"
   ],
   "metadata": {
    "collapsed": false,
    "pycharm": {
     "name": "#%%\n"
    }
   }
  },
  {
   "cell_type": "code",
   "execution_count": 93,
   "outputs": [],
   "source": [
    "image_data = cv2.imread(f'{FOLDER}/train/7/0002.png', cv2.IMREAD_UNCHANGED)"
   ],
   "metadata": {
    "collapsed": false,
    "pycharm": {
     "name": "#%%\n"
    }
   }
  },
  {
   "cell_type": "code",
   "execution_count": 94,
   "outputs": [
    {
     "data": {
      "text/plain": "(28, 28)"
     },
     "execution_count": 94,
     "metadata": {},
     "output_type": "execute_result"
    }
   ],
   "source": [
    "image_data.shape"
   ],
   "metadata": {
    "collapsed": false,
    "pycharm": {
     "name": "#%%\n"
    }
   }
  },
  {
   "cell_type": "code",
   "execution_count": 95,
   "outputs": [
    {
     "data": {
      "text/plain": "array([[  0,   0,   0,   0,   0,   0,   0,   0,   0,   0,   0,   0,   0,\n          0,   0,   0,   0,   0,   0,   0,   0,   0,   0,   0,   0,   0,\n          0,   0],\n       [  0,   0,   0,   0,   0,   0,   0,   0,   0,   0,   0,   0,   0,\n          0,   0,   0,   0,   0,   0,   0,   0,   0,   0,   0,   0,   0,\n          0,   0],\n       [  0,   0,   0,   0,   0,   0,   0,   0,   0,   0,   0,   0,   0,\n          0,   0,   0,   0,   0,   0,   0,   0,   0,   0,   0,   0,   0,\n          0,   0],\n       [  0,   0,   0,   0,   0,   0,   0,   0,   0,   0,   0,   0,   0,\n          0,   0,   0,   0,   0,   0,   0,   0,   0,   0,   0,   0,   0,\n          0,   0],\n       [  0,   0,   0,   0,   0,   0,   0,   0,   0,   0,   0,   0,   0,\n          0,   0,   0,   0,   0,   0,   0,   0,   0,   0,   0,   0,   0,\n          0,   0],\n       [  0,   0,   0,   0,   0,   0,   0,   0,   0,   0,   0,   0,   0,\n          0,   0,   0,   0,   0,   0,   0,   0,   0,   0,   0,   0,   0,\n          0,   0],\n       [  0,   0,   0,   0,   0,   0,   0,   0,   0,   0,   0,   0,   0,\n          0,   0,   0,   0,   0,   0,   0,   0,   0,   0,   0,   0,   0,\n          0,   0],\n       [  0,   0,   0,   0,   0,   0,   0,   0,   0,   0,   0,   0,   0,\n          1,   0,   0,   0,  49, 135, 182, 150,  59,   0,   0,   0,   0,\n          0,   0],\n       [  0,   0,   0,   0,   0,   0,   0,   0,   0,   0,   0,   0,   0,\n          0,   0,   0,  78, 255, 220, 212, 219, 255, 246, 191, 155,  87,\n          0,   0],\n       [  0,   0,   0,   0,   0,   0,   0,   0,   0,   0,   0,   0,   1,\n          0,   0,  57, 206, 215, 203, 191, 203, 212, 216, 217, 220, 211,\n         15,   0],\n       [  0,   0,   0,   0,   0,   0,   0,   0,   0,   0,   1,   0,   0,\n          0,  58, 231, 220, 210, 199, 209, 218, 218, 217, 208, 200, 215,\n         56,   0],\n       [  0,   0,   0,   0,   1,   2,   0,   0,   4,   0,   0,   0,   0,\n        145, 213, 207, 199, 187, 203, 210, 216, 217, 215, 215, 206, 215,\n        130,   0],\n       [  0,   0,   0,   0,   1,   2,   4,   0,   0,   0,   3, 105, 225,\n        205, 190, 201, 210, 214, 213, 215, 215, 212, 211, 208, 205, 207,\n        218,   0],\n       [  1,   5,   7,   0,   0,   0,   0,   0,  52, 162, 217, 189, 174,\n        157, 187, 198, 202, 217, 220, 223, 224, 222, 217, 211, 217, 201,\n        247,  65],\n       [  0,   0,   0,   0,   0,   0,  21,  72, 185, 189, 171, 171, 185,\n        203, 200, 207, 208, 209, 214, 219, 222, 222, 224, 215, 218, 211,\n        212, 148],\n       [  0,  70, 114, 129, 145, 159, 179, 196, 172, 176, 185, 196, 199,\n        206, 201, 210, 212, 213, 216, 218, 219, 217, 212, 207, 208, 200,\n        198, 173],\n       [  0, 122, 158, 184, 194, 192, 193, 196, 203, 209, 211, 211, 215,\n        218, 221, 222, 226, 227, 227, 226, 226, 223, 222, 216, 211, 208,\n        216, 185],\n       [ 21,   0,   0,  12,  48,  82, 123, 152, 170, 184, 195, 211, 225,\n        232, 233, 237, 242, 242, 240, 240, 238, 236, 222, 209, 200, 193,\n        185, 106],\n       [ 26,  47,  54,  18,   5,   0,   0,   0,   0,   0,   0,   0,   0,\n          0,   2,   4,   6,   9,   9,   8,   9,   6,   6,   4,   2,   0,\n          0,   0],\n       [  0,  10,  27,  45,  55,  59,  57,  50,  44,  51,  58,  62,  65,\n         56,  54,  57,  59,  61,  60,  63,  68,  67,  66,  73,  77,  74,\n         65,  39],\n       [  0,   0,   0,   0,   4,   9,  18,  23,  26,  25,  23,  25,  29,\n         37,  38,  37,  39,  36,  29,  31,  33,  34,  28,  24,  20,  14,\n          7,   0],\n       [  0,   0,   0,   0,   0,   0,   0,   0,   0,   0,   0,   0,   0,\n          0,   0,   0,   0,   0,   0,   0,   0,   0,   0,   0,   0,   0,\n          0,   0],\n       [  0,   0,   0,   0,   0,   0,   0,   0,   0,   0,   0,   0,   0,\n          0,   0,   0,   0,   0,   0,   0,   0,   0,   0,   0,   0,   0,\n          0,   0],\n       [  0,   0,   0,   0,   0,   0,   0,   0,   0,   0,   0,   0,   0,\n          0,   0,   0,   0,   0,   0,   0,   0,   0,   0,   0,   0,   0,\n          0,   0],\n       [  0,   0,   0,   0,   0,   0,   0,   0,   0,   0,   0,   0,   0,\n          0,   0,   0,   0,   0,   0,   0,   0,   0,   0,   0,   0,   0,\n          0,   0],\n       [  0,   0,   0,   0,   0,   0,   0,   0,   0,   0,   0,   0,   0,\n          0,   0,   0,   0,   0,   0,   0,   0,   0,   0,   0,   0,   0,\n          0,   0],\n       [  0,   0,   0,   0,   0,   0,   0,   0,   0,   0,   0,   0,   0,\n          0,   0,   0,   0,   0,   0,   0,   0,   0,   0,   0,   0,   0,\n          0,   0],\n       [  0,   0,   0,   0,   0,   0,   0,   0,   0,   0,   0,   0,   0,\n          0,   0,   0,   0,   0,   0,   0,   0,   0,   0,   0,   0,   0,\n          0,   0]], dtype=uint8)"
     },
     "execution_count": 95,
     "metadata": {},
     "output_type": "execute_result"
    }
   ],
   "source": [
    "image_data"
   ],
   "metadata": {
    "collapsed": false,
    "pycharm": {
     "name": "#%%\n"
    }
   }
  },
  {
   "cell_type": "code",
   "execution_count": 96,
   "outputs": [],
   "source": [
    "def load_data(dataset, path):\n",
    "    data = os.listdir(f'{path}/{dataset}')\n",
    "    labels = list(filter(lambda x : x != \".DS_Store\", data))\n",
    "    print(labels)\n",
    "    X = []\n",
    "    y = []\n",
    "    for label in labels:\n",
    "        for file in os.listdir(f'{path}/{dataset}/{label}'):\n",
    "            image = cv2.imread(os.path.join(path, dataset, label, file), cv2.IMREAD_UNCHANGED)\n",
    "            X.append(image)\n",
    "            y.append(label)\n",
    "    return np.array(X), np.array(y).astype(int)\n"
   ],
   "metadata": {
    "collapsed": false,
    "pycharm": {
     "name": "#%%\n"
    }
   }
  },
  {
   "cell_type": "code",
   "execution_count": 97,
   "outputs": [],
   "source": [
    "def prepare_data(path):\n",
    "    X,y = load_data('train', path)\n",
    "    X_test, y_test = load_data('test', path)\n",
    "    return X,y,X_test, y_test"
   ],
   "metadata": {
    "collapsed": false,
    "pycharm": {
     "name": "#%%\n"
    }
   }
  },
  {
   "cell_type": "code",
   "execution_count": 97,
   "outputs": [],
   "source": [],
   "metadata": {
    "collapsed": false,
    "pycharm": {
     "name": "#%%\n"
    }
   }
  },
  {
   "cell_type": "code",
   "execution_count": 98,
   "outputs": [],
   "source": [
    "def pre_processData():\n",
    "    X,y,X_test,y_test=prepare_data(f'fashion_mnist_images')\n",
    "    scale = 255/2\n",
    "    X = (X.astype(dtype=float) - scale) /scale\n",
    "    X_test = (X_test.astype(dtype=float) - scale)/scale\n",
    "    return X,y,X_test,y_test"
   ],
   "metadata": {
    "collapsed": false,
    "pycharm": {
     "name": "#%%\n"
    }
   }
  },
  {
   "cell_type": "code",
   "execution_count": 99,
   "outputs": [
    {
     "name": "stdout",
     "output_type": "stream",
     "text": [
      "['9', '0', '7', '6', '1', '8', '4', '3', '2', '5']\n",
      "['9', '0', '7', '6', '1', '8', '4', '3', '2', '5']\n"
     ]
    }
   ],
   "source": [
    "X,y,X_test,y_test = pre_processData()"
   ],
   "metadata": {
    "collapsed": false,
    "pycharm": {
     "name": "#%%\n"
    }
   }
  },
  {
   "cell_type": "code",
   "execution_count": 100,
   "outputs": [
    {
     "data": {
      "text/plain": "array([[-1.        , -1.        , -1.        , -1.        , -1.        ,\n        -1.        , -1.        , -1.        , -1.        , -1.        ,\n        -1.        , -1.        , -1.        , -1.        , -1.        ,\n        -1.        , -1.        , -1.        , -1.        , -1.        ,\n        -1.        , -1.        , -1.        , -1.        , -1.        ,\n        -1.        , -1.        , -1.        ],\n       [-1.        , -1.        , -1.        , -1.        , -1.        ,\n        -1.        , -1.        , -1.        , -1.        , -1.        ,\n        -1.        , -1.        , -1.        , -1.        , -1.        ,\n        -1.        , -1.        , -1.        , -1.        , -1.        ,\n        -1.        , -1.        , -1.        , -1.        , -1.        ,\n        -1.        , -1.        , -1.        ],\n       [-1.        , -1.        , -1.        , -1.        , -1.        ,\n        -1.        , -1.        , -1.        , -1.        , -1.        ,\n        -1.        , -1.        , -1.        , -1.        , -1.        ,\n        -1.        , -1.        , -1.        , -1.        , -1.        ,\n        -1.        , -1.        , -1.        , -1.        , -1.        ,\n        -1.        , -1.        , -1.        ],\n       [-1.        , -1.        , -1.        , -1.        , -1.        ,\n        -1.        , -1.        , -1.        , -1.        , -1.        ,\n        -1.        , -1.        , -1.        , -1.        , -1.        ,\n        -1.        , -1.        , -1.        , -1.        , -1.        ,\n        -1.        , -1.        , -1.        , -1.        , -1.        ,\n        -1.        , -1.        , -1.        ],\n       [-1.        , -1.        , -1.        , -1.        , -1.        ,\n        -1.        , -1.        , -1.        , -1.        , -1.        ,\n        -1.        , -1.        , -1.        , -1.        , -1.        ,\n        -1.        , -1.        , -1.        , -1.        , -1.        ,\n        -1.        , -1.        , -1.        , -1.        , -1.        ,\n        -1.        , -1.        , -1.        ],\n       [-1.        , -1.        , -1.        , -1.        , -1.        ,\n        -1.        , -1.        , -1.        , -1.        , -1.        ,\n        -1.        , -1.        , -1.        , -1.        , -0.99215686,\n        -1.        , -1.        , -0.80392157, -0.60784314, -1.        ,\n        -1.        , -0.98431373, -1.        , -0.99215686, -0.98431373,\n        -0.97647059, -0.97647059, -1.        ],\n       [-1.        , -1.        , -1.        , -1.        , -1.        ,\n        -1.        , -1.        , -1.        , -1.        , -1.        ,\n        -1.        , -1.        , -1.        , -1.        , -1.        ,\n        -0.95294118, -0.78039216, -0.56078431, -0.15294118, -0.55294118,\n        -1.        , -1.        , -1.        , -1.        , -1.        ,\n        -1.        , -1.        , -1.        ],\n       [-1.        , -1.        , -1.        , -1.        , -1.        ,\n        -1.        , -1.        , -1.        , -1.        , -1.        ,\n        -1.        , -0.99215686, -0.98431373, -1.        , -0.34117647,\n        -0.20784314, -0.56862745, -0.64705882,  0.49019608,  0.62352941,\n         0.28627451,  0.05882353, -0.27058824, -0.34117647, -0.36470588,\n        -0.2       , -1.        , -1.        ],\n       [-1.        , -1.        , -1.        , -1.        , -1.        ,\n        -1.        , -1.        , -1.        , -1.        , -1.        ,\n        -1.        , -1.        , -0.96862745, -1.        , -0.42745098,\n         0.76470588,  0.05098039, -0.15294118,  0.96862745,  0.8745098 ,\n         0.95294118,  1.        ,  1.        ,  0.95294118,  0.88235294,\n         0.94509804, -0.23137255, -1.        ],\n       [-1.        , -1.        , -1.        , -1.        , -1.        ,\n        -1.        , -1.        , -1.        , -1.        , -1.        ,\n        -1.        , -0.97647059, -1.        , -0.81176471, -0.57647059,\n        -0.49019608, -0.23137255,  0.03529412, -0.14509804,  0.01176471,\n         0.24705882,  0.27843137,  0.36470588,  0.38823529,  0.38039216,\n         0.83529412,  0.05098039, -1.        ],\n       [-1.        , -1.        , -1.        , -1.        , -1.        ,\n        -1.        , -1.        , -1.        , -1.        , -0.96862745,\n        -0.99215686, -1.        , -0.85882353,  0.00392157,  0.3254902 ,\n        -0.27843137, -0.0745098 , -0.00392157, -0.0745098 ,  0.05098039,\n        -0.09803922, -0.1372549 , -0.2       , -0.16862745, -0.6       ,\n         0.57647059,  0.34117647, -1.        ],\n       [-1.        , -1.        , -1.        , -1.        , -1.        ,\n        -1.        , -1.        , -1.        , -1.        , -1.        ,\n        -1.        , -0.71764706, -0.67058824, -0.50588235,  0.38823529,\n        -0.12156863,  0.11372549, -0.1372549 ,  0.05098039,  0.34117647,\n         0.30196078,  0.24705882,  0.41176471,  0.0745098 , -0.21568627,\n         0.36470588,  0.92156863, -1.        ],\n       [-1.        , -1.        , -1.        , -1.        , -1.        ,\n        -1.        , -1.        , -0.99215686, -1.        , -0.91372549,\n        -0.84313725, -0.01960784,  0.59215686, -0.4745098 , -0.29411765,\n         0.17647059,  0.01960784, -0.08235294, -0.01960784, -0.11372549,\n        -0.11372549, -0.16862745, -0.06666667, -0.1372549 , -0.16078431,\n         0.12941176,  0.22352941, -1.        ],\n       [-1.        , -1.        , -1.        , -1.        , -0.99215686,\n        -0.97647059, -0.99215686, -1.        , -1.        , -0.35686275,\n        -0.40392157, -0.63921569,  0.01176471,  0.00392157,  0.28627451,\n         0.05882353, -0.0745098 , -0.00392157,  0.01960784,  0.03529412,\n        -0.00392157, -0.05098039, -0.08235294, -0.05882353, -0.09019608,\n        -0.15294118,  0.08235294, -1.        ],\n       [-0.99215686, -0.99215686, -0.98431373, -0.99215686, -1.        ,\n        -1.        , -1.        , -0.97647059, -0.81176471,  0.01960784,\n         0.79607843, -0.21568627, -0.1372549 ,  0.24705882,  0.0745098 ,\n        -0.02745098,  0.05882353,  0.01176471, -0.01176471, -0.05098039,\n        -0.02745098,  0.03529412,  0.03529412, -0.05098039, -0.08235294,\n        -0.11372549,  0.27058824, -0.90588235],\n       [-0.99215686, -1.        , -1.        , -1.        , -1.        ,\n        -0.85098039, -0.57647059, -0.58431373, -0.45882353, -0.40392157,\n        -0.09803922, -0.04313725,  0.16078431,  0.11372549, -0.00392157,\n         0.01960784,  0.01960784, -0.05882353, -0.01176471,  0.04313725,\n         0.08235294,  0.11372549,  0.0745098 , -0.01960784,  0.20784314,\n        -0.00392157,  0.1372549 , -0.81960784],\n       [-1.        , -0.98431373, -0.69411765, -0.6       , -0.42745098,\n        -0.41960784, -0.63921569, -0.81176471, -0.12941176,  0.05098039,\n        -0.06666667, -0.00392157,  0.08235294,  0.05098039, -0.00392157,\n         0.00392157, -0.05098039,  0.01960784,  0.03529412,  0.08235294,\n         0.10588235,  0.06666667, -0.04313725,  0.08235294, -0.01960784,\n        -0.25490196,  0.10588235, -0.65490196],\n       [-1.        , -0.56862745, -0.30980392, -0.69411765, -0.74117647,\n        -0.82745098, -0.8745098 , -0.63921569, -0.20784314, -0.09019608,\n         0.2       ,  0.23137255,  0.06666667, -0.01960784,  0.05882353,\n         0.10588235,  0.00392157,  0.01176471,  0.04313725,  0.03529412,\n         0.04313725, -0.06666667,  0.14509804,  0.11372549, -0.11372549,\n        -0.15294118,  0.17647059, -0.55294118],\n       [-1.        , -0.30196078, -0.37254902, -0.40392157, -0.48235294,\n        -0.39607843, -0.30196078, -0.3254902 , -0.38823529, -0.43529412,\n        -0.49019608, -0.34901961, -0.21568627, -0.15294118,  0.03529412,\n         0.25490196,  0.14509804, -0.01176471,  0.05098039,  0.06666667,\n         0.06666667,  0.05098039,  0.19215686,  0.01960784,  0.05098039,\n        -0.1372549 ,  0.0745098 , -0.60784314],\n       [-0.71764706,  0.05882353, -0.06666667, -0.05882353, -0.11372549,\n        -0.15294118, -0.23137255, -0.19215686, -0.12156863, -0.06666667,\n        -0.0745098 , -0.12156863, -0.11372549, -0.09019608, -0.16078431,\n        -0.06666667,  0.10588235,  0.05882353, -0.12156863, -0.08235294,\n        -0.12941176,  0.12156863, -0.0745098 , -0.16862745, -0.18431373,\n        -0.34117647, -0.0745098 , -0.89803922],\n       [ 0.22352941,  0.27058824,  0.2627451 ,  0.23137255,  0.22352941,\n         0.20784314,  0.05098039, -0.01176471, -0.01176471, -0.11372549,\n        -0.08235294,  0.04313725, -0.01176471,  0.01960784,  0.09019608,\n         0.09019608,  0.2627451 ,  0.41960784,  0.2627451 ,  0.34117647,\n         0.41176471,  0.49803922,  0.41960784,  0.41176471,  0.40392157,\n         0.38039216,  0.45882353, -0.18431373],\n       [-0.60784314,  0.12941176,  0.27843137,  0.28627451,  0.36470588,\n         0.42745098,  0.41176471,  0.40392157,  0.40392157,  0.40392157,\n         0.39607843,  0.45098039,  0.40392157,  0.43529412,  0.52156863,\n         0.54509804,  0.54509804,  0.56078431,  0.59215686,  0.55294118,\n         0.49019608,  0.54509804,  0.40392157,  0.41960784,  0.41176471,\n         0.4745098 ,  0.41960784,  0.11372549],\n       [-1.        , -1.        , -0.74901961, -0.27843137,  0.03529412,\n         0.29411765,  0.52156863,  0.56862745,  0.63921569,  0.74117647,\n         0.78039216,  0.7254902 ,  0.63921569,  0.67058824,  0.55294118,\n         0.41960784,  0.21568627,  0.08235294, -0.00392157,  0.8745098 ,\n         0.6627451 ,  0.81176471,  0.74117647,  0.73333333,  0.63921569,\n         0.61568627,  0.7254902 ,  0.25490196],\n       [-1.        , -1.        , -1.        , -1.        , -1.        ,\n        -1.        , -0.94509804, -0.73333333, -0.54509804, -0.50588235,\n        -0.44313725, -0.41960784, -0.41960784, -0.56862745, -1.        ,\n        -1.        , -1.        , -1.        , -1.        , -0.19215686,\n        -0.09019608, -0.23921569, -0.21568627, -0.11372549, -0.08235294,\n        -0.2       , -0.27843137, -0.74901961],\n       [-1.        , -1.        , -1.        , -1.        , -1.        ,\n        -1.        , -1.        , -1.        , -1.        , -1.        ,\n        -1.        , -1.        , -1.        , -1.        , -1.        ,\n        -1.        , -1.        , -1.        , -1.        , -1.        ,\n        -1.        , -1.        , -1.        , -1.        , -1.        ,\n        -1.        , -1.        , -1.        ],\n       [-1.        , -1.        , -1.        , -1.        , -1.        ,\n        -1.        , -1.        , -1.        , -1.        , -1.        ,\n        -1.        , -1.        , -1.        , -1.        , -1.        ,\n        -1.        , -1.        , -1.        , -1.        , -1.        ,\n        -1.        , -1.        , -1.        , -1.        , -1.        ,\n        -1.        , -1.        , -1.        ],\n       [-1.        , -1.        , -1.        , -1.        , -1.        ,\n        -1.        , -1.        , -1.        , -1.        , -1.        ,\n        -1.        , -1.        , -1.        , -1.        , -1.        ,\n        -1.        , -1.        , -1.        , -1.        , -1.        ,\n        -1.        , -1.        , -1.        , -1.        , -1.        ,\n        -1.        , -1.        , -1.        ],\n       [-1.        , -1.        , -1.        , -1.        , -1.        ,\n        -1.        , -1.        , -1.        , -1.        , -1.        ,\n        -1.        , -1.        , -1.        , -1.        , -1.        ,\n        -1.        , -1.        , -1.        , -1.        , -1.        ,\n        -1.        , -1.        , -1.        , -1.        , -1.        ,\n        -1.        , -1.        , -1.        ]])"
     },
     "execution_count": 100,
     "metadata": {},
     "output_type": "execute_result"
    }
   ],
   "source": [
    "X[0]"
   ],
   "metadata": {
    "collapsed": false,
    "pycharm": {
     "name": "#%%\n"
    }
   }
  },
  {
   "cell_type": "code",
   "execution_count": 101,
   "outputs": [
    {
     "data": {
      "text/plain": "(-1.0, 1.0)"
     },
     "execution_count": 101,
     "metadata": {},
     "output_type": "execute_result"
    }
   ],
   "source": [
    "X.min(), X.max()"
   ],
   "metadata": {
    "collapsed": false,
    "pycharm": {
     "name": "#%%\n"
    }
   }
  },
  {
   "cell_type": "code",
   "execution_count": 102,
   "outputs": [
    {
     "data": {
      "text/plain": "(60000, 28, 28)"
     },
     "execution_count": 102,
     "metadata": {},
     "output_type": "execute_result"
    }
   ],
   "source": [
    "X.shape"
   ],
   "metadata": {
    "collapsed": false,
    "pycharm": {
     "name": "#%%\n"
    }
   }
  },
  {
   "cell_type": "code",
   "execution_count": 347,
   "outputs": [
    {
     "name": "stdout",
     "output_type": "stream",
     "text": [
      "(2, 6, 6)\n"
     ]
    }
   ],
   "source": [
    "dummy_images = np.array(\n",
    "    [\n",
    "                   [[1,2,3,4,5,6],\n",
    "                   [6,8,9,10,11,6],\n",
    "                   [12,13,14,15,16,6],\n",
    "                   [17,18,19,20,21,6],\n",
    "                   [22,23,24,25,26,6],\n",
    "                    [22,23,24,25,26,6]],\n",
    "        [[1,2,3,4,5,6],\n",
    "         [6,8,9,10,11,6],\n",
    "         [12,13,14,15,16,6],\n",
    "         [17,18,19,20,21,6],\n",
    "         [22,23,24,25,26,6],\n",
    "         [22,23,24,25,26,6]]\n",
    "])\n",
    "print(dummy_images.shape)"
   ],
   "metadata": {
    "collapsed": false,
    "pycharm": {
     "name": "#%%\n"
    }
   }
  },
  {
   "cell_type": "markdown",
   "source": [],
   "metadata": {
    "collapsed": false,
    "pycharm": {
     "name": "#%% md\n"
    }
   }
  },
  {
   "cell_type": "code",
   "execution_count": 348,
   "outputs": [
    {
     "data": {
      "text/plain": "2"
     },
     "execution_count": 348,
     "metadata": {},
     "output_type": "execute_result"
    }
   ],
   "source": [
    "filters = np.array([[[1,2,1],\n",
    "                    [3,2,1],\n",
    "                    [2,1,3]],\n",
    "                    [[1,1,3],\n",
    "                     [2,1,3],\n",
    "                     [1,2,3]]])\n",
    "filters.shape\n",
    "dummy_images.shape[0]"
   ],
   "metadata": {
    "collapsed": false,
    "pycharm": {
     "name": "#%%\n"
    }
   }
  },
  {
   "cell_type": "code",
   "execution_count": 348,
   "outputs": [],
   "source": [],
   "metadata": {
    "collapsed": false,
    "pycharm": {
     "name": "#%%\n"
    }
   }
  },
  {
   "cell_type": "code",
   "execution_count": 349,
   "outputs": [],
   "source": [
    "def im2col_sliding_strided(A, BSZ, stepsize=1):\n",
    "    # Parameters\n",
    "    m,n = A.shape\n",
    "    s0, s1 = A.strides\n",
    "    nrows = m-BSZ[0]+1\n",
    "    ncols = n-BSZ[1]+1\n",
    "    shp = BSZ[0],BSZ[1],nrows,ncols\n",
    "    strd = s0,s1,s0,s1\n",
    "\n",
    "    out_view = np.lib.stride_tricks.as_strided(A, shape=shp, strides=strd)\n",
    "    return out_view.reshape(BSZ[0]*BSZ[1],-1)[:,::stepsize]"
   ],
   "metadata": {
    "collapsed": false,
    "pycharm": {
     "name": "#%%\n"
    }
   }
  },
  {
   "cell_type": "code",
   "execution_count": 350,
   "outputs": [
    {
     "name": "stdout",
     "output_type": "stream",
     "text": [
      "(9, 16)\n",
      "(2, 3, 3)\n"
     ]
    },
    {
     "ename": "ValueError",
     "evalue": "cannot reshape array of size 32 into shape (2,3,3)",
     "output_type": "error",
     "traceback": [
      "\u001B[0;31m---------------------------------------------------------------------------\u001B[0m",
      "\u001B[0;31mValueError\u001B[0m                                Traceback (most recent call last)",
      "\u001B[0;32m/var/folders/dk/r4_y7bdx3g74wdhzty0j3sx40000gn/T/ipykernel_20230/1127395424.py\u001B[0m in \u001B[0;36m<module>\u001B[0;34m\u001B[0m\n\u001B[1;32m      6\u001B[0m     \u001B[0mfilters2\u001B[0m \u001B[0;34m=\u001B[0m \u001B[0mfilters\u001B[0m\u001B[0;34m.\u001B[0m\u001B[0mreshape\u001B[0m\u001B[0;34m(\u001B[0m\u001B[0;36m2\u001B[0m\u001B[0;34m,\u001B[0m\u001B[0;34m-\u001B[0m\u001B[0;36m1\u001B[0m\u001B[0;34m)\u001B[0m\u001B[0;34m\u001B[0m\u001B[0;34m\u001B[0m\u001B[0m\n\u001B[1;32m      7\u001B[0m     \u001B[0mim_result\u001B[0m \u001B[0;34m=\u001B[0m \u001B[0mnp\u001B[0m\u001B[0;34m.\u001B[0m\u001B[0mdot\u001B[0m\u001B[0;34m(\u001B[0m\u001B[0mfilters2\u001B[0m\u001B[0;34m,\u001B[0m \u001B[0mresult\u001B[0m\u001B[0;34m)\u001B[0m\u001B[0;34m\u001B[0m\u001B[0;34m\u001B[0m\u001B[0m\n\u001B[0;32m----> 8\u001B[0;31m     \u001B[0mim_result\u001B[0m\u001B[0;34m.\u001B[0m\u001B[0mreshape\u001B[0m\u001B[0;34m(\u001B[0m\u001B[0;36m2\u001B[0m\u001B[0;34m,\u001B[0m\u001B[0;36m3\u001B[0m\u001B[0;34m,\u001B[0m\u001B[0;36m3\u001B[0m\u001B[0;34m)\u001B[0m\u001B[0;34m\u001B[0m\u001B[0;34m\u001B[0m\u001B[0m\n\u001B[0m\u001B[1;32m      9\u001B[0m     \u001B[0mresult\u001B[0m\u001B[0;34m\u001B[0m\u001B[0;34m\u001B[0m\u001B[0m\n",
      "\u001B[0;31mValueError\u001B[0m: cannot reshape array of size 32 into shape (2,3,3)"
     ]
    }
   ],
   "source": [
    "for image in range(len(dummy_images)):\n",
    "    dummy = dummy_images[image]\n",
    "    result = im2col_sliding_strided(dummy, [3,3])\n",
    "    print(result.shape)\n",
    "    print(filters.shape)\n",
    "    filters2 = filters.reshape(2,-1)\n",
    "    im_result = np.dot(filters2, result)\n",
    "    im_result.reshape(2,3,3)\n",
    "    result"
   ],
   "metadata": {
    "collapsed": false,
    "pycharm": {
     "name": "#%%\n"
    }
   }
  },
  {
   "cell_type": "code",
   "execution_count": 351,
   "outputs": [
    {
     "ename": "ValueError",
     "evalue": "operands could not be broadcast together with shapes (9,) (9,16) ",
     "output_type": "error",
     "traceback": [
      "\u001B[0;31m---------------------------------------------------------------------------\u001B[0m",
      "\u001B[0;31mValueError\u001B[0m                                Traceback (most recent call last)",
      "\u001B[0;32m/var/folders/dk/r4_y7bdx3g74wdhzty0j3sx40000gn/T/ipykernel_20230/4093344084.py\u001B[0m in \u001B[0;36m<module>\u001B[0;34m\u001B[0m\n\u001B[1;32m     15\u001B[0m \u001B[0mdl_filters\u001B[0m \u001B[0;34m=\u001B[0m \u001B[0;34m[\u001B[0m\u001B[0;34m]\u001B[0m\u001B[0;34m\u001B[0m\u001B[0;34m\u001B[0m\u001B[0m\n\u001B[1;32m     16\u001B[0m \u001B[0;32mfor\u001B[0m \u001B[0mi\u001B[0m \u001B[0;32min\u001B[0m \u001B[0mrange\u001B[0m\u001B[0;34m(\u001B[0m\u001B[0mlen\u001B[0m\u001B[0;34m(\u001B[0m\u001B[0mdl\u001B[0m\u001B[0;34m)\u001B[0m\u001B[0;34m)\u001B[0m\u001B[0;34m:\u001B[0m\u001B[0;34m\u001B[0m\u001B[0;34m\u001B[0m\u001B[0m\n\u001B[0;32m---> 17\u001B[0;31m     \u001B[0mitem\u001B[0m \u001B[0;34m=\u001B[0m \u001B[0mdl\u001B[0m\u001B[0;34m[\u001B[0m\u001B[0mi\u001B[0m\u001B[0;34m]\u001B[0m\u001B[0;34m*\u001B[0m\u001B[0mresult\u001B[0m\u001B[0;34m\u001B[0m\u001B[0;34m\u001B[0m\u001B[0m\n\u001B[0m\u001B[1;32m     18\u001B[0m     \u001B[0mitem\u001B[0m \u001B[0;34m=\u001B[0m \u001B[0mitem\u001B[0m\u001B[0;34m.\u001B[0m\u001B[0msum\u001B[0m\u001B[0;34m(\u001B[0m\u001B[0maxis\u001B[0m\u001B[0;34m=\u001B[0m\u001B[0;36m0\u001B[0m\u001B[0;34m)\u001B[0m\u001B[0;34m\u001B[0m\u001B[0;34m\u001B[0m\u001B[0m\n\u001B[1;32m     19\u001B[0m     \u001B[0mitem\u001B[0m \u001B[0;34m=\u001B[0m\u001B[0mitem\u001B[0m\u001B[0;34m.\u001B[0m\u001B[0mreshape\u001B[0m\u001B[0;34m(\u001B[0m\u001B[0;36m3\u001B[0m\u001B[0;34m,\u001B[0m\u001B[0;36m3\u001B[0m\u001B[0;34m)\u001B[0m\u001B[0;34m\u001B[0m\u001B[0;34m\u001B[0m\u001B[0m\n",
      "\u001B[0;31mValueError\u001B[0m: operands could not be broadcast together with shapes (9,) (9,16) "
     ]
    }
   ],
   "source": [
    "gradient = np.array([\n",
    "    [\n",
    "        [4,4,4],\n",
    "        [5,5,5],\n",
    "        [6,6,6]\n",
    "    ],\n",
    "    [\n",
    "        [1, 1, 1],\n",
    "        [9, 9, 9],\n",
    "        [5, 5, 5]\n",
    "    ]\n",
    "])\n",
    "\n",
    "dl = gradient.reshape(2, -1)\n",
    "dl_filters = []\n",
    "for i in range(len(dl)):\n",
    "    item = dl[i]*result\n",
    "    item = item.sum(axis=0)\n",
    "    item =item.reshape(3,3)\n",
    "    dl_filters.append(item)\n",
    "dl_filters = np.array(dl_filters)\n",
    "dl_filters.shape"
   ],
   "metadata": {
    "collapsed": false,
    "pycharm": {
     "name": "#%%\n"
    }
   }
  },
  {
   "cell_type": "code",
   "execution_count": 403,
   "outputs": [
    {
     "data": {
      "text/plain": "array([[4, 4, 4, 4, 5, 5, 5, 4, 6, 6, 6, 4, 1, 1, 1, 3],\n       [1, 1, 1, 1, 2, 2, 2, 2, 3, 3, 3, 3, 2, 2, 2, 2]])"
     },
     "execution_count": 403,
     "metadata": {},
     "output_type": "execute_result"
    }
   ],
   "source": [
    "gradient = np.array([\n",
    "    [\n",
    "        [4,4,4,4],\n",
    "        [5,5,5,4],\n",
    "        [6,6,6,4],\n",
    "        [1,1,1,3]\n",
    "    ],\n",
    "    [\n",
    "        [1, 1, 1,1],\n",
    "        [2, 2, 2,2],\n",
    "        [3, 3, 3,3],\n",
    "        [2,2,2,2]\n",
    "    ],\n",
    "    [\n",
    "        [5,5,5,5],\n",
    "        [5,5,5,4],\n",
    "        [6,6,6,4],\n",
    "        [1,1,1,3]\n",
    "    ],\n",
    "    [\n",
    "        [1, 1, 1,1],\n",
    "        [2, 2, 2,2],\n",
    "        [3, 3, 3,3],\n",
    "        [2,2,2,2]\n",
    "    ],\n",
    "])\n",
    "gradient.shape\n",
    "res = gradient.reshape(2,2,4,4)\n",
    "res[0].reshape(2,-1)"
   ],
   "metadata": {
    "collapsed": false,
    "pycharm": {
     "name": "#%%\n"
    }
   }
  },
  {
   "cell_type": "code",
   "execution_count": 404,
   "outputs": [
    {
     "data": {
      "text/plain": "'\\ndl_filters = []\\nfor i in range(len(dl)):\\n    item = dl[i]*self.im2col\\n    item = item.sum(axis=0)\\n    item =item.reshape(3,3)\\n    dl_filters.append(item)\\ndl_filters = np.array(dl_filters)\\n'"
     },
     "execution_count": 404,
     "metadata": {},
     "output_type": "execute_result"
    }
   ],
   "source": [
    "class Conv_Layer:\n",
    "    def __init__(self, num_filters, filterSize):\n",
    "        self.num_filters = num_filters\n",
    "        self.filters = np.random.randn(num_filters, filterSize, filterSize)\n",
    "       # self.filters[1] = np.zeros(self.filters[1].shape)\n",
    "        self.filterSize = filterSize\n",
    "        self.im2cols = []\n",
    "        self.outputSize = 0\n",
    "        self.inputChannelLength = 0\n",
    "    def forward(self, input_channels, spatialSize):\n",
    "        outputSize = spatialSize - self.filterSize + 1\n",
    "        self.inputChannelLength = len(input_channels)\n",
    "        self.outputSize = outputSize\n",
    "        for image in range(len(input_channels)):\n",
    "            featureMap = input_channels[image]\n",
    "            result = im2col_sliding_strided(featureMap, [self.filterSize, self.filterSize])\n",
    "            self.im2cols.append(result)\n",
    "        self.im2cols = np.array(self.im2cols)\n",
    "       # print(self.im2cols.shape)\n",
    "        conv = np.dot(self.filters.reshape(1,self.num_filters, -1), self.im2cols)\n",
    "        #print(self.filters.reshape(1,self.num_filters, -1).shape, self.im2cols.shape, conv.shape)\n",
    "        #print(\"***** filter shape ****\",self.num_filters,len(input_channels), outputSize, outputSize, conv.shape)\n",
    "        self.output = conv.reshape(self.num_filters*len(input_channels), outputSize, outputSize)\n",
    "        #print(self.output)\n",
    "    def backward(self, dlInput):\n",
    "        dl = dlInput.reshape(self.num_filters,self.inputChannelLength, self.outputSize, self.outputSize)\n",
    "        print(dl.shape)\n",
    "        for i in range(len(dl)):\n",
    "            print(i)\n",
    "            #compte gradient sequentially\n",
    "            im2loc = self.im2cols[i]\n",
    "            print(len(self.im2cols))\n",
    "            reshapedGradient = dl[i].reshape(len(self.im2cols), -1)\n",
    "            print(reshapedGradient.shape)\n",
    "            lastItem = np.array([])\n",
    "            print(\"---- reshaped gradient ----\")\n",
    "            print(reshapedGradient)\n",
    "            for j in range(len(reshapedGradient)):\n",
    "                item = reshapedGradient[j]*self.im2cols[j]\n",
    "                item = item.sum(axis=0)\n",
    "                if len(lastItem) > 1:\n",
    "                    lastItem = lastItem + item\n",
    "                else:\n",
    "                    lastItem = item\n",
    "            print(\"---- gradient sum -----\")\n",
    "            print(lastItem)\n",
    "\n",
    "\n",
    "\n",
    "\n",
    "\"\"\"\n",
    "dl_filters = []\n",
    "for i in range(len(dl)):\n",
    "    item = dl[i]*self.im2col\n",
    "    item = item.sum(axis=0)\n",
    "    item =item.reshape(3,3)\n",
    "    dl_filters.append(item)\n",
    "dl_filters = np.array(dl_filters)\n",
    "\"\"\"\n",
    "\n"
   ],
   "metadata": {
    "collapsed": false,
    "pycharm": {
     "name": "#%%\n"
    }
   }
  },
  {
   "cell_type": "code",
   "execution_count": 405,
   "outputs": [
    {
     "name": "stdout",
     "output_type": "stream",
     "text": [
      "(2, 2, 4, 4)\n",
      "0\n",
      "2\n",
      "(2, 16)\n",
      "---- reshaped gradient ----\n",
      "[[4 4 4 4 5 5 5 4 6 6 6 4 1 1 1 3]\n",
      " [1 1 1 1 2 2 2 2 3 3 3 3 2 2 2 2]]\n",
      "---- gradient sum -----\n",
      "[ 340  390  435  395  812  882  945  666 1458 1539 1620  987  576  603\n",
      "  630  805]\n",
      "1\n",
      "2\n",
      "(2, 16)\n",
      "---- reshaped gradient ----\n",
      "[[5 5 5 5 5 5 5 4 6 6 6 4 1 1 1 3]\n",
      " [1 1 1 1 2 2 2 2 3 3 3 3 2 2 2 2]]\n",
      "---- gradient sum -----\n",
      "[ 408  468  522  474  812  882  945  666 1458 1539 1620  987  576  603\n",
      "  630  805]\n",
      "---------- layer 1 --------\n"
     ]
    }
   ],
   "source": [
    "layer1 = Conv_Layer(2, 3)\n",
    "layer1.forward(dummy_images,6)\n",
    "layer1.backward(gradient)\n",
    "print(\"---------- layer 1 --------\")\n",
    "#print(layer1.output.shape)\n",
    "layer2 = Conv_Layer(2,3)\n",
    "layer2.forward(layer1.output,4)\n",
    "#print(\"======= layer 2 =======\")\n",
    "#print(layer2.output)\n",
    "\n"
   ],
   "metadata": {
    "collapsed": false,
    "pycharm": {
     "name": "#%%\n"
    }
   }
  },
  {
   "cell_type": "code",
   "execution_count": null,
   "outputs": [],
   "source": [],
   "metadata": {
    "collapsed": false,
    "pycharm": {
     "name": "#%%\n"
    }
   }
  },
  {
   "cell_type": "code",
   "execution_count": 370,
   "outputs": [
    {
     "data": {
      "text/plain": "(2, 6, 6)"
     },
     "execution_count": 370,
     "metadata": {},
     "output_type": "execute_result"
    }
   ],
   "source": [
    "dummy_images.shape"
   ],
   "metadata": {
    "collapsed": false,
    "pycharm": {
     "name": "#%%\n"
    }
   }
  },
  {
   "cell_type": "code",
   "execution_count": 372,
   "outputs": [],
   "source": [],
   "metadata": {
    "collapsed": false,
    "pycharm": {
     "name": "#%%\n"
    }
   }
  },
  {
   "cell_type": "code",
   "execution_count": null,
   "outputs": [],
   "source": [],
   "metadata": {
    "collapsed": false,
    "pycharm": {
     "name": "#%%\n"
    }
   }
  },
  {
   "cell_type": "code",
   "execution_count": 315,
   "outputs": [],
   "source": [
    "class Conv_Layer2:\n",
    "    def __init__(self, num_filters, filterSize):\n",
    "        self.num_filters = num_filters\n",
    "        self.filters = np.random.randn(num_filters, filterSize, filterSize)\n",
    "        self.filterSize = filterSize\n",
    "        self.im2cols = []\n",
    "    def forward(self, input_channels, spatialSize):\n",
    "        outputSize = spatialSize - self.filterSize + 1\n",
    "        for image in range(len(input_channels)):\n",
    "            featureMap = input_channels[image]\n",
    "            result = im2col_sliding_strided(featureMap, [self.filterSize, self.filterSize])\n",
    "            self.im2cols.append(result)\n",
    "        self.im2cols = np.array(self.im2cols)\n",
    "        print(self.im2cols.shape)\n",
    "        conv = np.dot(self.filters.reshape(1,self.num_filters, -1), self.im2cols)\n",
    "        print(\"***** filter shape ****\",self.num_filters,len(input_channels), outputSize, outputSize, conv.shape)\n",
    "        self.output = conv.reshape(self.num_filters*len(input_channels), outputSize, outputSize)\n",
    "        print(self.output)\n",
    "    def backward(self, dlInput):\n",
    "        dl = dlInput.reshape(self.num_filters, -1)\n",
    "        dl_filters = []\n",
    "        for i in range(len(dl)):\n",
    "            item = dl[i]*self.im2col\n",
    "            item = item.sum(axis=0)\n",
    "            item =item.reshape(3,3)\n",
    "            dl_filters.append(item)\n",
    "        dl_filters = np.array(dl_filters)\n"
   ],
   "metadata": {
    "collapsed": false,
    "pycharm": {
     "name": "#%%\n"
    }
   }
  },
  {
   "cell_type": "code",
   "execution_count": 321,
   "outputs": [
    {
     "data": {
      "text/plain": "(2, 6, 6)"
     },
     "execution_count": 321,
     "metadata": {},
     "output_type": "execute_result"
    }
   ],
   "source": [
    "dummy_images = np.array(\n",
    "    [\n",
    "        [[1,2,3,4,5,6],\n",
    "         [6,8,9,10,11,6],\n",
    "         [12,13,14,15,16,6],\n",
    "         [17,18,19,20,21,6],\n",
    "         [22,23,24,25,26,6],\n",
    "         [22,23,24,25,26,6]],\n",
    "        [[1,2,3,4,5,6],\n",
    "         [6,8,9,10,11,6],\n",
    "         [12,13,14,15,16,6],\n",
    "         [17,18,19,20,21,6],\n",
    "         [22,23,24,25,26,6],\n",
    "         [22,23,24,25,26,6]]\n",
    "    ])\n",
    "dummy_images.shape"
   ],
   "metadata": {
    "collapsed": false,
    "pycharm": {
     "name": "#%%\n"
    }
   }
  },
  {
   "cell_type": "code",
   "execution_count": 322,
   "outputs": [
    {
     "data": {
      "text/plain": "array([[[[ 1,  2,  3,  4,  5,  6],\n         [ 6,  8,  9, 10, 11,  6],\n         [12, 13, 14, 15, 16,  6],\n         [17, 18, 19, 20, 21,  6],\n         [22, 23, 24, 25, 26,  6],\n         [22, 23, 24, 25, 26,  6]],\n\n        [[ 1,  2,  3,  4,  5,  6],\n         [ 6,  8,  9, 10, 11,  6],\n         [12, 13, 14, 15, 16,  6],\n         [17, 18, 19, 20, 21,  6],\n         [22, 23, 24, 25, 26,  6],\n         [22, 23, 24, 25, 26,  6]]]])"
     },
     "execution_count": 322,
     "metadata": {},
     "output_type": "execute_result"
    }
   ],
   "source": [
    "dummy_images.reshape(1,2,6,6)"
   ],
   "metadata": {
    "collapsed": false,
    "pycharm": {
     "name": "#%%\n"
    }
   }
  },
  {
   "cell_type": "code",
   "execution_count": 343,
   "outputs": [
    {
     "name": "stdout",
     "output_type": "stream",
     "text": [
      "(2, 2)\n",
      "(2, 2, 2)\n"
     ]
    }
   ],
   "source": [
    "first = np.array([[1,2],\n",
    "                  [1,1]])\n",
    "second = np.array([[\n",
    "    [1,1],\n",
    "    [1,1]\n",
    "],\n",
    "[\n",
    "  [2,2],\n",
    "    [2,2]\n",
    "]])\n",
    "print(first.shape)\n",
    "print(second.shape)"
   ],
   "metadata": {
    "collapsed": false,
    "pycharm": {
     "name": "#%%\n"
    }
   }
  },
  {
   "cell_type": "code",
   "execution_count": 345,
   "outputs": [
    {
     "data": {
      "text/plain": "array([[[1, 2]],\n\n       [[1, 1]]])"
     },
     "execution_count": 345,
     "metadata": {},
     "output_type": "execute_result"
    }
   ],
   "source": [
    "first = first.reshape(2,1,2)\n",
    "first"
   ],
   "metadata": {
    "collapsed": false,
    "pycharm": {
     "name": "#%%\n"
    }
   }
  },
  {
   "cell_type": "code",
   "execution_count": 346,
   "outputs": [
    {
     "data": {
      "text/plain": "array([[[[3, 3],\n         [6, 6]]],\n\n\n       [[[2, 2],\n         [4, 4]]]])"
     },
     "execution_count": 346,
     "metadata": {},
     "output_type": "execute_result"
    }
   ],
   "source": [
    "np.dot(first, second)"
   ],
   "metadata": {
    "collapsed": false,
    "pycharm": {
     "name": "#%%\n"
    }
   }
  },
  {
   "cell_type": "code",
   "execution_count": null,
   "outputs": [],
   "source": [],
   "metadata": {
    "collapsed": false,
    "pycharm": {
     "name": "#%%\n"
    }
   }
  }
 ],
 "metadata": {
  "kernelspec": {
   "display_name": "Python 3",
   "language": "python",
   "name": "python3"
  },
  "language_info": {
   "codemirror_mode": {
    "name": "ipython",
    "version": 2
   },
   "file_extension": ".py",
   "mimetype": "text/x-python",
   "name": "python",
   "nbconvert_exporter": "python",
   "pygments_lexer": "ipython2",
   "version": "2.7.6"
  }
 },
 "nbformat": 4,
 "nbformat_minor": 0
}